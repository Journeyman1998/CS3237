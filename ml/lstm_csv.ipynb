{
  "nbformat": 4,
  "nbformat_minor": 0,
  "metadata": {
    "language_info": {
      "codemirror_mode": {
        "name": "ipython",
        "version": 3
      },
      "file_extension": ".py",
      "mimetype": "text/x-python",
      "name": "python",
      "nbconvert_exporter": "python",
      "pygments_lexer": "ipython3",
      "version": "3.7.7-final"
    },
    "orig_nbformat": 2,
    "kernelspec": {
      "name": "python3",
      "display_name": "Python 3.7.7 64-bit ('venv')",
      "metadata": {
        "interpreter": {
          "hash": "114d62b75f995e056581e916f376bfc5abfea1a21c26be0a5cfbbf064ec4142f"
        }
      }
    },
    "colab": {
      "name": "lstm_csv.ipynb",
      "provenance": [],
      "collapsed_sections": []
    }
  },
  "cells": [
    {
      "cell_type": "code",
      "metadata": {
        "id": "aQJE_9YGQb7s"
      },
      "source": [
        "import os\n",
        "import glob\n",
        "import numpy as np\n",
        "from numpy import mean, std\n",
        "import matplotlib.pyplot as plt\n",
        "import tensorflow as tf\n",
        "from pandas import read_csv\n",
        "import keras.backend as kb\n",
        "from keras.models import Sequential\n",
        "from keras.layers import Dense, Dropout, LSTM\n",
        "from tensorflow.keras.optimizers import Adam\n",
        "from tensorflow.keras.utils import to_categorical"
      ],
      "execution_count": null,
      "outputs": []
    },
    {
      "cell_type": "code",
      "metadata": {
        "colab": {
          "base_uri": "https://localhost:8080/"
        },
        "id": "X8NxrklzQiPf",
        "outputId": "04a113d4-a037-4051-9ef8-d35255b7533a"
      },
      "source": [
        "from google.colab import drive\n",
        "drive.mount('/content/drive')"
      ],
      "execution_count": null,
      "outputs": [
        {
          "output_type": "stream",
          "name": "stdout",
          "text": [
            "Mounted at /content/drive\n"
          ]
        }
      ]
    },
    {
      "cell_type": "code",
      "metadata": {
        "id": "Fr0bOMWhQb7w"
      },
      "source": [
        "# Run for GPU/CUDA ML, comment out if you dont have it configured.\n",
        "window = 20 # the length of time series data\n",
        "gpu_devices = tf.config.list_physical_devices('GPU')"
      ],
      "execution_count": null,
      "outputs": []
    },
    {
      "cell_type": "code",
      "metadata": {
        "id": "tjaODdy_Sl2_",
        "colab": {
          "base_uri": "https://localhost:8080/"
        },
        "outputId": "046bc4e6-5306-4c78-d581-5f12dc20adae"
      },
      "source": [
        "directory = \"/content/drive/MyDrive/CS3237 Group Project/Gesture Recognition Model/\"\n",
        "gestures = [\"gestureA\", \"gestureB\"]\n",
        "\n",
        "NUM_FEATURES = 6\n",
        "TIMESTEP = 20\n",
        "NUM_GESTURES = len(gestures)\n",
        "\n",
        "x_train_list = []\n",
        "y_train_list = []\n",
        "\n",
        "for gesture in gestures:\n",
        "    all_data = []\n",
        "    gesture_dir = os.path.join(directory, gesture)\n",
        "    all_gesture_files = glob.glob(gesture_dir + \"/**/*.csv\", recursive=True)\n",
        "\n",
        "    num_files = len(all_gesture_files)\n",
        "\n",
        "    for file in all_gesture_files:\n",
        "        filename = os.path.join(gesture_dir, file)\n",
        "        data = np.loadtxt(filename, delimiter=',', skiprows=1)\n",
        "        all_data.append(data)\n",
        "\n",
        "    final_data = np.concatenate(all_data, axis=0 )\n",
        "    final_data = np.reshape(final_data, (num_files, TIMESTEP, NUM_FEATURES))\n",
        "\n",
        "    labels = np.zeros((num_files, NUM_GESTURES))\n",
        "    lbl_idx = gestures.index(gesture)\n",
        "    labels[:, lbl_idx] = 1\n",
        "\n",
        "    x_train_list.append(final_data)\n",
        "    y_train_list.append(labels)\n",
        "\n",
        "x_train = np.concatenate(x_train_list, axis=0)\n",
        "y_train = np.concatenate(y_train_list, axis=0)\n",
        "\n",
        "print(f\"X_train shape: {x_train.shape}\")\n",
        "print(f\"Y_train shape: {y_train.shape}\")"
      ],
      "execution_count": null,
      "outputs": [
        {
          "output_type": "stream",
          "name": "stdout",
          "text": [
            "X_train shape: (2053, 20, 6)\n",
            "Y_train shape: (2053, 2)\n"
          ]
        }
      ]
    },
    {
      "cell_type": "code",
      "metadata": {
        "id": "Ho6oOIKlQb70"
      },
      "source": [
        "def visualise(history, label):\n",
        "    print(history.history.keys())\n",
        "    # summarize history for accuracy\n",
        "    plt.plot(history.history['accuracy'])\n",
        "    plt.plot(history.history['val_accuracy'])\n",
        "\n",
        "    plt.title('Accuracy of LSTM Model')\n",
        "    plt.ylabel('accuracy')\n",
        "    plt.xlabel('epoch')\n",
        "    plt.legend(['train', 'test'], loc='upper left')\n",
        "    plt.savefig(f'/content/drive/MyDrive/CS3237 Group Project/Gesture Recognition Model/{label}')\n",
        "    plt.close()\n"
      ],
      "execution_count": null,
      "outputs": []
    },
    {
      "cell_type": "code",
      "metadata": {
        "id": "PT-78vE4Qb71"
      },
      "source": [
        "def evaluate_lstm(x_train, y_train, dropout, LR=0.0001, epochs=20, units=100, label='fig'):\n",
        "    print(\"start evaluation!\")\n",
        "    verbose, batch_size = 1, 64\n",
        "    n_timesteps, n_features, n_outputs = x_train.shape[1], x_train.shape[2], y_train.shape[1]\n",
        "    ##LSTM model structure\n",
        "    model = Sequential()\n",
        "    model.add(LSTM(units, input_shape=(n_timesteps, n_features), dropout=dropout))\n",
        "    model.add(Dropout(dropout))\n",
        "    model.add(Dense(100, activation='relu'))\n",
        "    model.add(Dense(n_outputs, activation='softmax'))\n",
        "    opt = Adam(lr=LR)\n",
        "    model.compile(loss='categorical_crossentropy', optimizer=opt, metrics=['accuracy', tf.keras.metrics.CategoricalAccuracy()])\n",
        "\n",
        "    model.summary()\n",
        "    history = model.fit(x_train, y_train, epochs=epochs, batch_size=batch_size, verbose=verbose,\n",
        "                        validation_split=0.15,  shuffle=True)\n",
        "    ##plot\n",
        "    visualise(history, label)\n",
        "\n",
        "    # save model\n",
        "    if not os.path.exists('lstm_models'):\n",
        "        os.makedirs('lstm_models')\n",
        "    model_name = os.path.join(directory, \"model\")\n",
        "    model.save(model_name)\n"
      ],
      "execution_count": null,
      "outputs": []
    },
    {
      "cell_type": "code",
      "metadata": {
        "id": "Ryz_c7KvQb72"
      },
      "source": [
        "# Run dropout experiment\n",
        "dropouts = [0.0, 0.2, 0.4]\n",
        "lr = 0.0001\n",
        "unit = 100\n",
        "\n",
        "for dropout in dropouts:\n",
        "    label = f'fig_dropout{dropout}_lr{lr}_units{unit}'\n",
        "    label = label.replace('.', ',')\n",
        "    score = evaluate_lstm(x_train, y_train, dropout, LR=lr, units=unit, label=label)\n"
      ],
      "execution_count": null,
      "outputs": []
    },
    {
      "cell_type": "code",
      "metadata": {
        "id": "iUelieXaCjZs"
      },
      "source": [
        "# Run lr experiment\n",
        "dropout = 0.4\n",
        "learning_rates = [0.1, 0.01, 0.001, 0.0001]\n",
        "unit = 100\n",
        "\n",
        "for lr in learning_rates:\n",
        "    label = f'fig_dropout{dropout}_lr{lr}_units{unit}'\n",
        "    label = label.replace('.', ',')\n",
        "    score = evaluate_lstm(x_train, y_train, dropout, LR=lr, units=unit, label=label)\n"
      ],
      "execution_count": null,
      "outputs": []
    },
    {
      "cell_type": "code",
      "metadata": {
        "id": "L2HGuYX_NjfX"
      },
      "source": [
        "# Run units experiment\n",
        "dropout = 0.4\n",
        "lr = 0.0001\n",
        "units = [5, 10, 20, 50, 100]\n",
        "\n",
        "for unit in units:\n",
        "    label = f'fig_dropout{dropout}_lr{lr}_units{unit}'\n",
        "    label = label.replace('.', ',')\n",
        "    score = evaluate_lstm(x_train, y_train, dropout, LR=lr, units=unit, label=label)"
      ],
      "execution_count": null,
      "outputs": []
    }
  ]
}